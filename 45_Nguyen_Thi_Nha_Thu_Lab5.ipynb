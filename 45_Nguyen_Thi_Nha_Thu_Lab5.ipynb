{
 "cells": [
  {
   "cell_type": "markdown",
   "metadata": {
    "id": "Sy563Xlj_PTe"
   },
   "source": [
    "# Lab 5 - Clustering and Dimensionality Reduction\n",
    "\n",
    "\n",
    "- Your name: Nguyen Thi Nha Thu\n",
    "\n",
    "- Your student code: 19133054"
   ]
  },
  {
   "cell_type": "code",
   "execution_count": 1,
   "metadata": {
    "colab": {
     "base_uri": "https://localhost:8080/"
    },
    "id": "1HHJrv1kBBZb",
    "outputId": "5ec18a16-fd8c-4849-d375-c2df9913bdb5"
   },
   "outputs": [
    {
     "name": "stdout",
     "output_type": "stream",
     "text": [
      "\u001b[33m\r",
      "0% [Working]\u001b[0m\r",
      "            \r",
      "Hit:1 https://cloud.r-project.org/bin/linux/ubuntu bionic-cran40/ InRelease\n",
      "\u001b[33m\r",
      "0% [Connecting to archive.ubuntu.com] [Connecting to security.ubuntu.com (185.1\u001b[0m\u001b[33m\r",
      "0% [1 InRelease gpgv 3,626 B] [Connecting to archive.ubuntu.com] [Connecting to\u001b[0m\r",
      "                                                                               \r",
      "Ign:2 https://developer.download.nvidia.com/compute/machine-learning/repos/ubuntu1804/x86_64  InRelease\n",
      "\u001b[33m\r",
      "0% [1 InRelease gpgv 3,626 B] [Waiting for headers] [Waiting for headers] [Wait\u001b[0m\r",
      "                                                                               \r",
      "Hit:3 https://developer.download.nvidia.com/compute/cuda/repos/ubuntu1804/x86_64  InRelease\n",
      "\u001b[33m\r",
      "0% [1 InRelease gpgv 3,626 B] [Waiting for headers] [Waiting for headers] [Wait\u001b[0m\r",
      "                                                                               \r",
      "Hit:4 http://archive.ubuntu.com/ubuntu bionic InRelease\n",
      "\u001b[33m\r",
      "0% [1 InRelease gpgv 3,626 B] [Waiting for headers] [Waiting for headers] [Wait\u001b[0m\r",
      "                                                                               \r",
      "Hit:5 https://developer.download.nvidia.com/compute/machine-learning/repos/ubuntu1804/x86_64  Release\n",
      "\u001b[33m\r",
      "0% [1 InRelease gpgv 3,626 B] [Waiting for headers] [Waiting for headers] [Wait\u001b[0m\u001b[33m\r",
      "                                                                               \r",
      "0% [Waiting for headers] [Waiting for headers] [Waiting for headers]\u001b[0m\u001b[33m\r",
      "0% [3 InRelease gpgv 1,581 B] [Waiting for headers] [Waiting for headers] [Wait\u001b[0m\r",
      "                                                                               \r",
      "Hit:6 http://ppa.launchpad.net/c2d4u.team/c2d4u4.0+/ubuntu bionic InRelease\n",
      "\u001b[33m\r",
      "0% [3 InRelease gpgv 1,581 B] [Waiting for headers] [Waiting for headers] [Conn\u001b[0m\r",
      "                                                                               \r",
      "Hit:7 http://archive.ubuntu.com/ubuntu bionic-updates InRelease\n",
      "\u001b[33m\r",
      "0% [3 InRelease gpgv 1,581 B] [Waiting for headers] [Waiting for headers] [Conn\u001b[0m\r",
      "                                                                               \r",
      "Get:8 http://security.ubuntu.com/ubuntu bionic-security InRelease [88.7 kB]\n",
      "Get:9 http://archive.ubuntu.com/ubuntu bionic-backports InRelease [83.3 kB]\n",
      "Hit:10 http://ppa.launchpad.net/cran/libgit2/ubuntu bionic InRelease\n",
      "Hit:12 http://ppa.launchpad.net/deadsnakes/ppa/ubuntu bionic InRelease\n",
      "Hit:13 http://ppa.launchpad.net/graphics-drivers/ppa/ubuntu bionic InRelease\n",
      "Fetched 172 kB in 1s (118 kB/s)\n",
      "Reading package lists... Done\n",
      "Building dependency tree       \n",
      "Reading state information... Done\n",
      "22 packages can be upgraded. Run 'apt list --upgradable' to see them.\n",
      "tar: spark-3.2.0-bin-hadoop3.2.tgz: Cannot open: No such file or directory\n",
      "tar: Error is not recoverable: exiting now\n",
      "Looking in indexes: https://pypi.org/simple, https://us-python.pkg.dev/colab-wheels/public/simple/\n",
      "Requirement already satisfied: pyspark in /usr/local/lib/python3.7/dist-packages (3.3.1)\n",
      "Requirement already satisfied: py4j==0.10.9.5 in /usr/local/lib/python3.7/dist-packages (from pyspark) (0.10.9.5)\n"
     ]
    }
   ],
   "source": [
    "!sudo apt update\n",
    "!apt-get install openjdk-8-jdk-headless -qq > /dev/null\n",
    "!wget -q https://dlcdn.apache.org/spark/spark-3.2.0/spark-3.2.0-bin-hadoop3.2.tgz\n",
    "!tar xf spark-3.2.0-bin-hadoop3.2.tgz\n",
    "!pip install -q findspark\n",
    "!pip install pyspark"
   ]
  },
  {
   "cell_type": "markdown",
   "metadata": {
    "id": "s3q1S4-y_PTh"
   },
   "source": [
    "## 1. Giới thiệu\n",
    "### 1.1. Khởi tạo Spark"
   ]
  },
  {
   "cell_type": "code",
   "execution_count": 2,
   "metadata": {
    "id": "bKm8NxYj_PTi"
   },
   "outputs": [],
   "source": [
    "import findspark\n",
    "findspark.init()\n",
    "\n",
    "import pyspark\n",
    "findspark.find()\n",
    "\n",
    "from pyspark.sql import SparkSession\n",
    "from pyspark.sql.functions import count\n",
    "\n",
    "spark = (SparkSession\n",
    "         .builder\n",
    "         .appName(\"Clustering\")\n",
    "         .getOrCreate())"
   ]
  },
  {
   "cell_type": "markdown",
   "metadata": {
    "id": "OFyQm0Hm_PTj"
   },
   "source": [
    "### 1.2. Đọc và load tập dữ liệu Iris"
   ]
  },
  {
   "cell_type": "code",
   "execution_count": 3,
   "metadata": {
    "colab": {
     "base_uri": "https://localhost:8080/"
    },
    "id": "kYvUlynT_PTk",
    "outputId": "80392367-4295-4b78-eba5-eb6b446d0437"
   },
   "outputs": [
    {
     "name": "stdout",
     "output_type": "stream",
     "text": [
      "+------------+-----------+------------+-----------+-----------+\n",
      "|sepal_length|sepal_width|petal_length|petal_width|      class|\n",
      "+------------+-----------+------------+-----------+-----------+\n",
      "|         5.1|        3.5|         1.4|        0.2|Iris-setosa|\n",
      "|         4.9|        3.0|         1.4|        0.2|Iris-setosa|\n",
      "|         4.7|        3.2|         1.3|        0.2|Iris-setosa|\n",
      "|         4.6|        3.1|         1.5|        0.2|Iris-setosa|\n",
      "|         5.0|        3.6|         1.4|        0.2|Iris-setosa|\n",
      "+------------+-----------+------------+-----------+-----------+\n",
      "only showing top 5 rows\n",
      "\n"
     ]
    }
   ],
   "source": [
    "irisDF = (spark.read\n",
    "          .option(\"HEADER\", True)\n",
    "          .option(\"inferSchema\", True)\n",
    "          .csv(\"/content/iris.csv\")\n",
    "         )\n",
    "\n",
    "irisDF.show(5)"
   ]
  },
  {
   "cell_type": "markdown",
   "metadata": {
    "id": "bOtgd63e_PTk"
   },
   "source": [
    "### 1.3. Tập dữ liệu Iris\n",
    "\n",
    "`sepal_length`: chiều dài đài hoa (cm)\n",
    "\n",
    "`sepal_width`: chiều rộng đài hoa (cm)\n",
    "\n",
    "`petal_length`: chiều dài cánh hoa (cm)\n",
    "\n",
    "`petal_width`: chiều rộng cánh hoa (cm)\n",
    "\n",
    "`class/label`: loại hoa\n",
    "\n",
    "![Iris dataset](./image/iris.png)"
   ]
  },
  {
   "cell_type": "markdown",
   "metadata": {
    "id": "xO-GDIbQ_PTl"
   },
   "source": [
    "### 1.4. Xem các loại biến trong tập dữ liệu"
   ]
  },
  {
   "cell_type": "code",
   "execution_count": 4,
   "metadata": {
    "colab": {
     "base_uri": "https://localhost:8080/"
    },
    "id": "9ZkhcwDM_PTl",
    "outputId": "300d50bf-d14c-4f9a-cb52-6e4fddd12f53"
   },
   "outputs": [
    {
     "data": {
      "text/plain": [
       "[('sepal_length', 'double'),\n",
       " ('sepal_width', 'double'),\n",
       " ('petal_length', 'double'),\n",
       " ('petal_width', 'double'),\n",
       " ('class', 'string')]"
      ]
     },
     "execution_count": 4,
     "metadata": {},
     "output_type": "execute_result"
    }
   ],
   "source": [
    "irisDF.dtypes"
   ]
  },
  {
   "cell_type": "markdown",
   "metadata": {
    "id": "Xfc1ZqkN_PTm"
   },
   "source": [
    "### 1.5. Chuyển cột `class` (kiểu string) thành `label` (kiểu double)"
   ]
  },
  {
   "cell_type": "code",
   "execution_count": 5,
   "metadata": {
    "colab": {
     "base_uri": "https://localhost:8080/"
    },
    "id": "LI-Mn5gk_PTm",
    "outputId": "6754078a-e864-42b4-d9b4-ae62872618a1"
   },
   "outputs": [
    {
     "name": "stdout",
     "output_type": "stream",
     "text": [
      "+------------+-----------+------------+-----------+-----------+-----+\n",
      "|sepal_length|sepal_width|petal_length|petal_width|      class|label|\n",
      "+------------+-----------+------------+-----------+-----------+-----+\n",
      "|         5.1|        3.5|         1.4|        0.2|Iris-setosa|  0.0|\n",
      "|         4.9|        3.0|         1.4|        0.2|Iris-setosa|  0.0|\n",
      "|         4.7|        3.2|         1.3|        0.2|Iris-setosa|  0.0|\n",
      "|         4.6|        3.1|         1.5|        0.2|Iris-setosa|  0.0|\n",
      "|         5.0|        3.6|         1.4|        0.2|Iris-setosa|  0.0|\n",
      "+------------+-----------+------------+-----------+-----------+-----+\n",
      "only showing top 5 rows\n",
      "\n"
     ]
    }
   ],
   "source": [
    "from pyspark.ml.feature import StringIndexer\n",
    "\n",
    "class_indexer = StringIndexer(inputCol='class',outputCol='label')\n",
    "\n",
    "irisDFindexed = class_indexer.fit(irisDF).transform(irisDF)\n",
    "\n",
    "irisDFindexed.show(5)"
   ]
  },
  {
   "cell_type": "markdown",
   "metadata": {
    "id": "ell1gN_F_PTn"
   },
   "source": [
    "### 1.6. Biến đổi data theo định dạng của Spark"
   ]
  },
  {
   "cell_type": "code",
   "execution_count": 6,
   "metadata": {
    "colab": {
     "base_uri": "https://localhost:8080/"
    },
    "id": "R1q9rgZE_PTn",
    "outputId": "b73658c2-92b3-43f3-92ff-c23e08205788"
   },
   "outputs": [
    {
     "name": "stdout",
     "output_type": "stream",
     "text": [
      "+------------+-----------+------------+-----------+-----------------+-----+\n",
      "|sepal_length|sepal_width|petal_length|petal_width|         features|label|\n",
      "+------------+-----------+------------+-----------+-----------------+-----+\n",
      "|         5.1|        3.5|         1.4|        0.2|[5.1,3.5,1.4,0.2]|  0.0|\n",
      "|         4.9|        3.0|         1.4|        0.2|[4.9,3.0,1.4,0.2]|  0.0|\n",
      "|         4.7|        3.2|         1.3|        0.2|[4.7,3.2,1.3,0.2]|  0.0|\n",
      "|         4.6|        3.1|         1.5|        0.2|[4.6,3.1,1.5,0.2]|  0.0|\n",
      "|         5.0|        3.6|         1.4|        0.2|[5.0,3.6,1.4,0.2]|  0.0|\n",
      "+------------+-----------+------------+-----------+-----------------+-----+\n",
      "only showing top 5 rows\n",
      "\n"
     ]
    }
   ],
   "source": [
    "from pyspark.ml.feature import VectorAssembler\n",
    "\n",
    "vecAssembler = VectorAssembler(inputCols=['sepal_length','sepal_width','petal_length','petal_width'],\n",
    "                            outputCol='features')\n",
    "irisAssembler = vecAssembler.transform(irisDFindexed)\n",
    "\n",
    "selected_cols = ['sepal_length','sepal_width','petal_length','petal_width', 'features', 'label']\n",
    "\n",
    "irisFeaturesDF = irisAssembler.select(selected_cols)\n",
    "irisFeaturesDF.show(5)"
   ]
  },
  {
   "cell_type": "markdown",
   "metadata": {
    "id": "_afnnWMu_PTo"
   },
   "source": [
    "## 2. Sử dụng thuật toán gom cụm Kmeans\n",
    "Tham khảo:\n",
    "\n",
    "1. [Kmeans User Guides](https://spark.apache.org/docs/latest/ml-clustering.html#k-means)\n",
    "\n",
    "2. [Kmeans API Docs](https://spark.apache.org/docs/latest/api/python/reference/api/pyspark.ml.clustering.KMeans.html#pyspark.ml.clustering.KMeans)"
   ]
  },
  {
   "cell_type": "markdown",
   "metadata": {
    "id": "WbEfPs1l_PTo"
   },
   "source": [
    "### 2.1 Áp dụng thuật toán `KMeans` trên `irisFeaturesDF` với `k = 3`, `maxIter = 20`"
   ]
  },
  {
   "cell_type": "code",
   "execution_count": 7,
   "metadata": {
    "colab": {
     "base_uri": "https://localhost:8080/"
    },
    "id": "91s5TD-G_PTo",
    "outputId": "a780bc3e-c2e2-4932-eb3b-5f90a8064a22"
   },
   "outputs": [
    {
     "name": "stdout",
     "output_type": "stream",
     "text": [
      "[array([5.9016129 , 2.7483871 , 4.39354839, 1.43387097]), array([5.006, 3.418, 1.464, 0.244]), array([6.85      , 3.07368421, 5.74210526, 2.07105263])]\n"
     ]
    }
   ],
   "source": [
    "from pyspark.ml.clustering import KMeans\n",
    "\n",
    "kmeans = KMeans(k = 3, seed = 1, maxIter = 20)\n",
    "\n",
    "#  Call fit on the estimator and pass in irisFeaturesDF\n",
    "model = kmeans.fit(irisFeaturesDF)\n",
    "\n",
    "# Obtain the clusterCenters from the KMeansModel\n",
    "centers = model.clusterCenters()\n",
    "\n",
    "# Use the model to transform the DataFrame by adding cluster predictions\n",
    "transformedDF = model.transform(irisFeaturesDF)\n",
    "\n",
    "print(centers)"
   ]
  },
  {
   "cell_type": "markdown",
   "metadata": {
    "id": "szzt1J8e_PTp"
   },
   "source": [
    "### 2.2. Tính giá trị [silhouette](https://en.wikipedia.org/wiki/Silhouette_(clustering)) của kết quả gom cụm"
   ]
  },
  {
   "cell_type": "code",
   "execution_count": 8,
   "metadata": {
    "colab": {
     "base_uri": "https://localhost:8080/"
    },
    "id": "d8C4wVqr_PTp",
    "outputId": "63d3bcff-84e2-4e5b-9de0-53bb53de2269"
   },
   "outputs": [
    {
     "name": "stdout",
     "output_type": "stream",
     "text": [
      "Silhouette with squared euclidean distance = 0.7354567373091194\n"
     ]
    }
   ],
   "source": [
    "from pyspark.ml.evaluation import ClusteringEvaluator\n",
    "\n",
    "evaluator = ClusteringEvaluator(metricName = \"silhouette\")\n",
    "\n",
    "silhouette = evaluator.evaluate(transformedDF)\n",
    "print(\"Silhouette with squared euclidean distance = \" + str(silhouette))"
   ]
  },
  {
   "cell_type": "markdown",
   "metadata": {
    "id": "oI3AMtzj_PTp"
   },
   "source": [
    "### 2.3. Tính F-mearure của kết quả gom cụm dùng true label\n",
    "\n",
    "Giả sử tập dữ liệu $D$ có $n$ phần tử $x_i$ được phân hoạch thành $p$ nhóm (ở đây ứng với số loài). Gọi $y_i \\in \\{1, 2, · · · , p\\}$ là nhóm thật sự (ground-truth labels) cho mỗi phần tử. Ground-truth clustering được cho bởi $T = \\{T_1, T_2, \\cdots , T_p\\}$, với $T_j$ bao gồm tất cả các phần tử có nhãn $j$, nghĩa là, $T_j = \\{ x_i \\in D | y_i = j \\}$. Mặt khác, gọi $C = \\{ C_1, C_2, \\cdots, C_k \\}$ là một kết quả gom cụm của $D$ thành $k$ cụm (cluster), qua một thuật toán gom cụm nào đó, và $\\hat{y_i} \\in \\{ 1, 2, \\cdots, k \\}$ là cluster label cho $x_i$. Ta sẽ xem $T$ là một phân hoạch chuẩn (ground-truth partitioning) và mỗi $T_i$ là một phân vùng (partition). Ta gọi $C$ là một kết quả gom cụm (clustering), với mỗi $C_i$ là một cụm (cluster). Giả sử ground truth là biết trước, một thuật toán gom cụm sẽ thực hiện gom cụm trên $D$ với số cụm chính xác, tức với $k = p$. Tuy nhiên, để giữ tính tổng quát, ta cho phép $k \\ne p$.\n",
    "\n",
    "| Clusters/Species | $T_1$ | $T_2$  | $\\cdots$ | $T_p$ |\n",
    "|---|---|---|---|---|\n",
    "| $C_1$ | $n_{11}$ | $n_{12}$ | $\\cdots$ | $n_{1p}$ |\n",
    "| $C_2$ | $n_{21}$ | $n_{22}$ | $\\cdots$ | $n_{2p}$ |\n",
    "| $\\vdots$ | $\\vdots$ | $\\vdots$ | $\\ddots$ | $\\vdots$ |\n",
    "| $C_k$ | $n_{k1}$ | $n_{k2}$ | $\\cdots$ | $n_{kp}$ |\n",
    "\n",
    "Các độ đo đánh giá kết quả gom cụm cố gắng nắm bắt mức độ mà các phần tử từ cùng một phân vùng (partition) xuất hiện trong cùng một cụm (cluster) và mức độ mà các phần tử từ các phân vùng (partition) khác nhau được nhóm thành các cụm (cluster) khác nhau. Những độ đo này dựa trên $k \\times p$ contingency table $N$ (xem bảng trên) được thành lập dựa vào một kết quả gom cụm (clustering) $C$ và một phân hoạch chuẩn (ground-truth partitioning) $T$, được định nghĩa như sau:\n",
    "\n",
    "$$N(i, j) = n_{ij} = |C_i \\cap T_j|$$\n",
    "\n",
    "- $Recall$ là tỷ lệ đối tượng cùng loài được gán cùng cụm. \n",
    "\n",
    "- $Precision$ là tỷ lệ đối tượng được gán cùng cụm thuộc cùng loài. \n",
    "\n",
    "- $F{\\text -}measure$ là một độ đo cân bằng giữa $Precision$ và $Recall$ và được tính bằng trung bình điều hòa giữa $Precision$ và $Recall$. Đây là một độ đo thường được sử dụng để so sánh các thuật toán gom cụm với nhau.\n",
    "\n",
    "Các độ đo $Precision$, $Recall$, và $F{\\text -}measure$ được tính từ contingency table ở trên dùng các công thức sau:\n",
    "\n",
    "\n",
    "\\begin{equation}\n",
    "precision = \\frac{{\\sum\\limits_{i = 1}^k {\\mathop {{\\rm{max}}}\\limits_{j \\in \\left\\{ {1, \\ldots p} \\right\\}} \\{n_{ij}\\} } }}{{\\sum\\limits_{i = 1}^k {\\sum\\limits_{j = 1}^p {n_{ij} } } }}\n",
    "\\end{equation}\n",
    "\n",
    "\\begin{equation}\n",
    "recall = \\frac{{\\sum\\limits_{j = 1}^p {\\mathop {{\\rm{max}}}\\limits_{i \\in \\left\\{ {1, \\ldots ,k} \\right\\}} \\{n_{ij}\\} } }}{{\\sum\\limits_{i = 1}^k {\\sum\\limits_{j = 1}^p {n_{ij} } } }}\n",
    "\\end{equation}\n",
    "\n",
    "\\begin{equation}\n",
    "\\begin{split}\n",
    "F{\\text -}measure = \\frac{{2 \\cdot precision \\cdot recall}}{{precision + recall}}\n",
    "\\end{split}\n",
    "\\end{equation}\n"
   ]
  },
  {
   "cell_type": "code",
   "execution_count": 9,
   "metadata": {
    "id": "Jxc6_wq2_PTp"
   },
   "outputs": [],
   "source": [
    "# Viết code của bạn ở đây"
   ]
  },
  {
   "cell_type": "markdown",
   "metadata": {
    "id": "uC_bJd1Q_PTq"
   },
   "source": [
    "## 3. Áp dụng PCA\n",
    "\n",
    "Tham khảo:\n",
    "\n",
    "1. [PCA User Guides](https://spark.apache.org/docs/latest/ml-features.html#pca)\n",
    "\n",
    "2. [PCA API Docs](https://spark.apache.org/docs/latest/api/python/reference/api/pyspark.ml.feature.PCA.html#pyspark.ml.feature.PCA)\n",
    "\n",
    "### 3.1. Thực hiện thu giảm chiều trên `features` dùng PCA, với `k = 2`."
   ]
  },
  {
   "cell_type": "code",
   "execution_count": 10,
   "metadata": {
    "colab": {
     "base_uri": "https://localhost:8080/"
    },
    "id": "vidzwdKy_PTq",
    "outputId": "c65125c3-f628-407d-b8fa-f5d0a9b29a94"
   },
   "outputs": [
    {
     "name": "stdout",
     "output_type": "stream",
     "text": [
      "+-----------------+-----------------------------------------+\n",
      "|features         |pcaFeatures                              |\n",
      "+-----------------+-----------------------------------------+\n",
      "|[5.1,3.5,1.4,0.2]|[-2.8271359726790286,-5.641331045573357] |\n",
      "|[4.9,3.0,1.4,0.2]|[-2.7959524821488464,-5.1451668832529425]|\n",
      "|[4.7,3.2,1.3,0.2]|[-2.62152355816506,-5.17737812120394]    |\n",
      "|[4.6,3.1,1.5,0.2]|[-2.764905900474242,-5.003599415056977]  |\n",
      "|[5.0,3.6,1.4,0.2]|[-2.7827501159516626,-5.648648294377423] |\n",
      "+-----------------+-----------------------------------------+\n",
      "only showing top 5 rows\n",
      "\n"
     ]
    }
   ],
   "source": [
    "from pyspark.ml.feature import PCA\n",
    "\n",
    "pca = PCA(k = 2, inputCol = \"features\", outputCol = \"pcaFeatures\")\n",
    "pcaModel = pca.fit(irisFeaturesDF)\n",
    "\n",
    "irisPCA = pcaModel.transform(irisFeaturesDF).select(\"features\", \"pcaFeatures\")\n",
    "irisPCA.show(5, truncate = False)"
   ]
  },
  {
   "cell_type": "markdown",
   "metadata": {
    "id": "3rRW3bQS_PTq"
   },
   "source": [
    "### 3.2. Áp dụng k-means trên `pcaFeatures` được tạo ra bởi PCA"
   ]
  },
  {
   "cell_type": "code",
   "execution_count": 11,
   "metadata": {
    "colab": {
     "base_uri": "https://localhost:8080/"
    },
    "id": "CsvdtGcD_PTq",
    "outputId": "e7596f80-a19c-451a-c62f-ee1b663ac6ed"
   },
   "outputs": [
    {
     "name": "stdout",
     "output_type": "stream",
     "text": [
      "[array([-6.17577661, -4.98443152]), array([-2.87050234, -5.50524368]), array([-7.85779422, -5.58707828])]\n"
     ]
    }
   ],
   "source": [
    "from pyspark.ml.clustering import KMeans\n",
    "\n",
    "kmeans = KMeans(k = 3, seed = 1, maxIter = 20, featuresCol = 'pcaFeatures')\n",
    "\n",
    "#  Call fit on the estimator and pass in irisPCA\n",
    "kMeansModel = kmeans.fit(irisPCA)\n",
    "\n",
    "# Obtain the clusterCenters from the kMeansModel\n",
    "centers = kMeansModel.clusterCenters()\n",
    "\n",
    "# Use the model to transform the DataFrame by adding cluster predictions\n",
    "transformedIrisPCA = kMeansModel.transform(irisPCA)\n",
    "\n",
    "print(centers)"
   ]
  },
  {
   "cell_type": "markdown",
   "metadata": {
    "id": "PaogQnKm_PTr"
   },
   "source": [
    "### 3.3. Tính giá trị [silhouette](https://en.wikipedia.org/wiki/Silhouette_(clustering)) của kết quả gom cụm"
   ]
  },
  {
   "cell_type": "code",
   "execution_count": 12,
   "metadata": {
    "colab": {
     "base_uri": "https://localhost:8080/"
    },
    "id": "yNKquzwD_PTr",
    "outputId": "41f41b46-97cb-4e86-ee44-acbd64b8d4a1"
   },
   "outputs": [
    {
     "name": "stdout",
     "output_type": "stream",
     "text": [
      "Silhouette with squared euclidean distance = 0.7342113066202725\n"
     ]
    }
   ],
   "source": [
    "from pyspark.ml.evaluation import ClusteringEvaluator\n",
    "\n",
    "evaluator = ClusteringEvaluator(metricName = \"silhouette\")\n",
    "\n",
    "silhouette = evaluator.evaluate(transformedIrisPCA)\n",
    "print(\"Silhouette with squared euclidean distance = \" + str(silhouette))"
   ]
  },
  {
   "cell_type": "markdown",
   "metadata": {
    "id": "aZq3AmML_PTr"
   },
   "source": [
    "### 3.4. Tính F-mearure của kết quả gom cụm dùng true label"
   ]
  },
  {
   "cell_type": "code",
   "execution_count": 13,
   "metadata": {
    "id": "zhAkmVwu_PTr"
   },
   "outputs": [],
   "source": [
    "# Viết code của bạn ở đây\n"
   ]
  },
  {
   "cell_type": "markdown",
   "metadata": {
    "id": "wlY2xHFr_PTr"
   },
   "source": [
    "## 4. Áp dụng `Kmeans` với tập dữ liệu `iris`"
   ]
  },
  {
   "cell_type": "markdown",
   "metadata": {
    "id": "1h5uqRhl_PTs"
   },
   "source": [
    "### 4.1. Tạo `features` column cho tập dữ liệu `iris` chỉ dùng 2 thuộc tính `sepal_length` và `sepal_width`."
   ]
  },
  {
   "cell_type": "code",
   "execution_count": 14,
   "metadata": {
    "colab": {
     "base_uri": "https://localhost:8080/"
    },
    "id": "jlrGIGR3_PTs",
    "outputId": "be4cfac3-af38-4ef4-e651-add1e0cd2479"
   },
   "outputs": [
    {
     "name": "stdout",
     "output_type": "stream",
     "text": [
      "+---------+\n",
      "| features|\n",
      "+---------+\n",
      "|[5.1,3.5]|\n",
      "|[4.9,3.0]|\n",
      "|[4.7,3.2]|\n",
      "|[4.6,3.1]|\n",
      "|[5.0,3.6]|\n",
      "+---------+\n",
      "only showing top 5 rows\n",
      "\n"
     ]
    }
   ],
   "source": [
    "# Viết code của bạn ở đây\n",
    "irisDF2 = irisDF.select(\"sepal_length\", \"sepal_width\")\n",
    "\n",
    "irisAssembler = (VectorAssembler( inputCols = [\"sepal_length\", \"sepal_width\"],\n",
    "                    outputCol = \"features\")\n",
    "                    .transform(irisDF2))\n",
    "irisFeaturesDF = irisAssembler.select('features')\n",
    "irisFeaturesDF.show(5)"
   ]
  },
  {
   "cell_type": "markdown",
   "metadata": {
    "id": "qiY7hhK1_PTs"
   },
   "source": [
    "### 4.2. Áp dụng `Kmeans` cho tập dữ liệu `iris` trên `features` vừa tạo \n",
    "\n",
    "Thiết lập các giá trị siêu tham số `k = 3`, `seed = 1`, và `maxIter = 20`. \n",
    "\n",
    "Tham khảo document về `Kmeans` của Spark ở [Kmeans](https://spark.apache.org/docs/latest/api/python/reference/api/pyspark.ml.clustering.KMeans.html#pyspark.ml.clustering.KMeans)."
   ]
  },
  {
   "cell_type": "code",
   "execution_count": 15,
   "metadata": {
    "colab": {
     "base_uri": "https://localhost:8080/"
    },
    "id": "KfoDBhQP_PTs",
    "outputId": "f4d6c851-261a-48e0-e3ee-0da933d4d9bb"
   },
   "outputs": [
    {
     "name": "stdout",
     "output_type": "stream",
     "text": [
      "[array([5.8, 2.7]), array([5.00392157, 3.4       ]), array([6.82391304, 3.07826087])]\n",
      "+---------+----------+\n",
      "|features |prediction|\n",
      "+---------+----------+\n",
      "|[5.1,3.5]|1         |\n",
      "|[4.9,3.0]|1         |\n",
      "|[4.7,3.2]|1         |\n",
      "|[4.6,3.1]|1         |\n",
      "|[5.0,3.6]|1         |\n",
      "|[5.4,3.9]|1         |\n",
      "|[4.6,3.4]|1         |\n",
      "|[5.0,3.4]|1         |\n",
      "|[4.4,2.9]|1         |\n",
      "|[4.9,3.1]|1         |\n",
      "|[5.4,3.7]|1         |\n",
      "|[4.8,3.4]|1         |\n",
      "|[4.8,3.0]|1         |\n",
      "|[4.3,3.0]|1         |\n",
      "|[5.8,4.0]|1         |\n",
      "|[5.7,4.4]|1         |\n",
      "|[5.4,3.9]|1         |\n",
      "|[5.1,3.5]|1         |\n",
      "|[5.7,3.8]|1         |\n",
      "|[5.1,3.8]|1         |\n",
      "|[5.4,3.4]|1         |\n",
      "|[5.1,3.7]|1         |\n",
      "|[4.6,3.6]|1         |\n",
      "|[5.1,3.3]|1         |\n",
      "|[4.8,3.4]|1         |\n",
      "|[5.0,3.0]|1         |\n",
      "|[5.0,3.4]|1         |\n",
      "|[5.2,3.5]|1         |\n",
      "|[5.2,3.4]|1         |\n",
      "|[4.7,3.2]|1         |\n",
      "|[4.8,3.1]|1         |\n",
      "|[5.4,3.4]|1         |\n",
      "|[5.2,4.1]|1         |\n",
      "|[5.5,4.2]|1         |\n",
      "|[4.9,3.1]|1         |\n",
      "|[5.0,3.2]|1         |\n",
      "|[5.5,3.5]|1         |\n",
      "|[4.9,3.1]|1         |\n",
      "|[4.4,3.0]|1         |\n",
      "|[5.1,3.4]|1         |\n",
      "|[5.0,3.5]|1         |\n",
      "|[4.5,2.3]|1         |\n",
      "|[4.4,3.2]|1         |\n",
      "|[5.0,3.5]|1         |\n",
      "|[5.1,3.8]|1         |\n",
      "|[4.8,3.0]|1         |\n",
      "|[5.1,3.8]|1         |\n",
      "|[4.6,3.2]|1         |\n",
      "|[5.3,3.7]|1         |\n",
      "|[5.0,3.3]|1         |\n",
      "|[7.0,3.2]|2         |\n",
      "|[6.4,3.2]|2         |\n",
      "|[6.9,3.1]|2         |\n",
      "|[5.5,2.3]|0         |\n",
      "|[6.5,2.8]|2         |\n",
      "|[5.7,2.8]|0         |\n",
      "|[6.3,3.3]|2         |\n",
      "|[4.9,2.4]|0         |\n",
      "|[6.6,2.9]|2         |\n",
      "|[5.2,2.7]|0         |\n",
      "|[5.0,2.0]|0         |\n",
      "|[5.9,3.0]|0         |\n",
      "|[6.0,2.2]|0         |\n",
      "|[6.1,2.9]|0         |\n",
      "|[5.6,2.9]|0         |\n",
      "|[6.7,3.1]|2         |\n",
      "|[5.6,3.0]|0         |\n",
      "|[5.8,2.7]|0         |\n",
      "|[6.2,2.2]|0         |\n",
      "|[5.6,2.5]|0         |\n",
      "|[5.9,3.2]|0         |\n",
      "|[6.1,2.8]|0         |\n",
      "|[6.3,2.5]|0         |\n",
      "|[6.1,2.8]|0         |\n",
      "|[6.4,2.9]|2         |\n",
      "|[6.6,3.0]|2         |\n",
      "|[6.8,2.8]|2         |\n",
      "|[6.7,3.0]|2         |\n",
      "|[6.0,2.9]|0         |\n",
      "|[5.7,2.6]|0         |\n",
      "|[5.5,2.4]|0         |\n",
      "|[5.5,2.4]|0         |\n",
      "|[5.8,2.7]|0         |\n",
      "|[6.0,2.7]|0         |\n",
      "|[5.4,3.0]|0         |\n",
      "|[6.0,3.4]|0         |\n",
      "|[6.7,3.1]|2         |\n",
      "|[6.3,2.3]|0         |\n",
      "|[5.6,3.0]|0         |\n",
      "|[5.5,2.5]|0         |\n",
      "|[5.5,2.6]|0         |\n",
      "|[6.1,3.0]|0         |\n",
      "|[5.8,2.6]|0         |\n",
      "|[5.0,2.3]|0         |\n",
      "|[5.6,2.7]|0         |\n",
      "|[5.7,3.0]|0         |\n",
      "|[5.7,2.9]|0         |\n",
      "|[6.2,2.9]|0         |\n",
      "|[5.1,2.5]|0         |\n",
      "|[5.7,2.8]|0         |\n",
      "+---------+----------+\n",
      "only showing top 100 rows\n",
      "\n"
     ]
    }
   ],
   "source": [
    "# Viết code của bạn ở đây\n",
    "kmeans = KMeans(k=3, seed=1, maxIter=20)\n",
    "\n",
    "#  Call fit on the estimator and pass in irisFeaturesDF\n",
    "model = kmeans.fit(irisFeaturesDF)\n",
    "\n",
    "# Obtain the clusterCenters from the KMeansModel\n",
    "centers = model.clusterCenters()\n",
    "\n",
    "# Use the model to transform the DataFrame by adding cluster predictions\n",
    "transformedDF = model.transform(irisFeaturesDF)\n",
    "\n",
    "print(centers)\n",
    "\n",
    "transformedDF.show(100,False)"
   ]
  },
  {
   "cell_type": "markdown",
   "metadata": {
    "id": "mhOLbYm5_PTs"
   },
   "source": [
    "### 4.3. Tính giá trị `silhouette` của kết quả gom cụm"
   ]
  },
  {
   "cell_type": "code",
   "execution_count": 16,
   "metadata": {
    "colab": {
     "base_uri": "https://localhost:8080/"
    },
    "id": "BRz-wGg9_PTs",
    "outputId": "0e32e0a8-1e6e-410e-e668-e12d2bea459d"
   },
   "outputs": [
    {
     "data": {
      "text/plain": [
       "0.6144693759745262"
      ]
     },
     "execution_count": 16,
     "metadata": {},
     "output_type": "execute_result"
    }
   ],
   "source": [
    "# Viết code của bạn ở đây\n",
    "evaluator = ClusteringEvaluator(metricName=\"silhouette\")\n",
    "\n",
    "evaluator.evaluate(transformedDF)"
   ]
  },
  {
   "cell_type": "markdown",
   "metadata": {
    "id": "FkHDraeD_PTs"
   },
   "source": [
    "### 4.4. Tính F-mearure của kết quả gom cụm dùng true label"
   ]
  },
  {
   "cell_type": "code",
   "execution_count": 17,
   "metadata": {
    "id": "VH9rVk4x_PTt"
   },
   "outputs": [],
   "source": [
    "# Viết code của bạn ở đây"
   ]
  },
  {
   "cell_type": "markdown",
   "metadata": {
    "id": "3ODHXELV_PTt"
   },
   "source": [
    "### 4.4. Áp dụng thuật toán `KMeans` trên `features` đã tạo với `k = 3`, và `maxIter` thay đổi. In ra các centers và chỉ số `silhouette` cho từng kết quả gom cụm."
   ]
  },
  {
   "cell_type": "code",
   "execution_count": 18,
   "metadata": {
    "id": "wKmobyS__PTt"
   },
   "outputs": [],
   "source": [
    "# Viết code của bạn ở đây\n",
    "modelCenters = []\n",
    "silhouetteModel = []\n",
    "iterations = [0, 2, 4, 7, 10, 20]\n",
    "for i in iterations:\n",
    "    kmeans = KMeans(k=3, seed=1, maxIter=i)\n",
    "    model = kmeans.fit(irisFeaturesDF)\n",
    "    modelCenters.append(model.clusterCenters())\n",
    "    \n",
    "    sillhouette = evaluator.evaluate(transformedDF)\n",
    "    silhouetteModel.append(sillhouette)"
   ]
  },
  {
   "cell_type": "code",
   "execution_count": 19,
   "metadata": {
    "colab": {
     "base_uri": "https://localhost:8080/"
    },
    "id": "dVBjX6EPC-3D",
    "outputId": "213a69e7-5c14-4a1f-ff8b-379c41b28c0a"
   },
   "outputs": [
    {
     "name": "stdout",
     "output_type": "stream",
     "text": [
      "modelCenters:\n",
      "[array([5.74150943, 2.62075472]), array([5.57804878, 3.33780488]), array([7.47333333, 2.98      ])]\n",
      "[array([5.87118644, 2.73389831]), array([5.01153846, 3.39230769]), array([6.91025641, 3.08717949])]\n",
      "[array([5.84909091, 2.70909091]), array([5.00192308, 3.38076923]), array([6.85348837, 3.1       ])]\n",
      "[array([5.8, 2.7]), array([5.00392157, 3.4       ]), array([6.82391304, 3.07826087])]\n",
      "[array([5.8, 2.7]), array([5.00392157, 3.4       ]), array([6.82391304, 3.07826087])]\n",
      "[array([5.8, 2.7]), array([5.00392157, 3.4       ]), array([6.82391304, 3.07826087])]\n"
     ]
    }
   ],
   "source": [
    "print(\"modelCenters:\")\n",
    "for centroids in modelCenters:\n",
    "  print(centroids)"
   ]
  },
  {
   "cell_type": "code",
   "execution_count": 20,
   "metadata": {
    "colab": {
     "base_uri": "https://localhost:8080/"
    },
    "id": "VyVK__tBDBlW",
    "outputId": "dd756372-cc2c-4b3c-ecf0-abf6c54f6347"
   },
   "outputs": [
    {
     "name": "stdout",
     "output_type": "stream",
     "text": [
      "silhouettes:\n",
      "0.6144693759745262\n",
      "0.6144693759745262\n",
      "0.6144693759745262\n",
      "0.6144693759745262\n",
      "0.6144693759745262\n",
      "0.6144693759745262\n"
     ]
    }
   ],
   "source": [
    "print(\"silhouettes:\")\n",
    "for silhouette in silhouetteModel:\n",
    "  print(silhouette)"
   ]
  },
  {
   "cell_type": "markdown",
   "metadata": {
    "id": "uTNVR9cB_PTt"
   },
   "source": [
    "### 4.5. Trực quan hóa kết quả gom cụm dùng thư viện `matplotlib`. \n",
    "Tham khảo [python-machine-learning-book-chapter10-notebook](https://github.com/rasbt/machine-learning-book/blob/main/ch10/ch10.ipynb)."
   ]
  },
  {
   "cell_type": "code",
   "execution_count": 21,
   "metadata": {
    "colab": {
     "base_uri": "https://localhost:8080/",
     "height": 297
    },
    "id": "XPqGjv7m_PTt",
    "outputId": "221f0272-1d48-4450-d78c-619616040078"
   },
   "outputs": [
    {
     "data": {
      "image/png": "[encoded data removed]",
      "text/plain": [
       "<Figure size 432x288 with 1 Axes>"
      ]
     },
     "metadata": {
      "needs_background": "light"
     },
     "output_type": "display_data"
    }
   ],
   "source": [
    "# Viết code của bạn ở đây\n",
    "from sklearn import datasets\n",
    "import matplotlib.pyplot as plt\n",
    "import pandas as pd\n",
    "from sklearn.cluster import KMeans\n",
    "iris = datasets.load_iris()\n",
    "X = iris.data[:,:2]\n",
    "y = iris.target\n",
    "plt.scatter(X[:,0], X[:,1], c=y, cmap='gist_rainbow')\n",
    "plt.xlabel('Speal Length', fontsize=18)\n",
    "plt.ylabel('Sepal Width', fontsize=18)\n",
    "\n",
    "\n",
    "km = KMeans(n_clusters = 3, random_state=21)\n",
    "\n",
    "\n",
    "y_km = km.fit_predict(X)\n",
    "plt.scatter(X[y_km == 0, 0],\n",
    "            X[y_km == 0, 1],\n",
    "            s=50, c='lightgreen',\n",
    "            marker='s', edgecolor='black',\n",
    "            label='Cluster 1')\n",
    "plt.scatter(X[y_km == 1, 0],\n",
    "            X[y_km == 1, 1],\n",
    "            s=50, c='orange',\n",
    "            marker='o', edgecolor='black',\n",
    "            label='Cluster 2')\n",
    "plt.scatter(X[y_km == 2, 0],\n",
    "            X[y_km == 2, 1],\n",
    "            s=50, c='lightblue',\n",
    "            marker='v', edgecolor='black',\n",
    "            label='Cluster 3')\n",
    "plt.scatter(km.cluster_centers_[:, 0],\n",
    "            km.cluster_centers_[:, 1],\n",
    "            s=250, marker='*',\n",
    "            c='red', edgecolor='black',\n",
    "            label='Centroids')\n",
    "plt.legend(scatterpoints=1)\n",
    "plt.grid()\n",
    "plt.tight_layout()\n",
    "#plt.savefig('images/11_02.png', dpi=300)\n",
    "plt.show()"
   ]
  },
  {
   "cell_type": "markdown",
   "metadata": {
    "id": "uIA9ohDj_PTt"
   },
   "source": [
    "## 5. Áp dụng `BisectingKMeans` trên tập dữ liệu `iris`\n",
    "\n",
    "Thực lại các bước trên tập dữ liệu iris với thuật toán BisectingKMeans.\n",
    "\n",
    "Tham khảo: \n",
    "\n",
    "1. [BisectingKMeans User Guides](https://spark.apache.org/docs/latest/ml-clustering.html#bisecting-k-means)\n",
    "\n",
    "2. [BisectingKMeans API Documentations](https://spark.apache.org/docs/latest/api/python/reference/api/pyspark.ml.clustering.BisectingKMeans.html#pyspark.ml.clustering.BisectingKMeans)"
   ]
  },
  {
   "cell_type": "markdown",
   "metadata": {
    "id": "nlU9w1E1_PTu"
   },
   "source": [
    "**Bisecting Kmeans** là một thuật toán gọm cụm thuộc nhóm **hierarchical clustering**. Khác với thuật toán **AGNES (agglomerative nesting)** tiếp cận theo hướng **bottom-up**, thuật toán **Bisecting Kmeans** tiếp cận theo hướng **top-down**.\n",
    "\n",
    "**Ý tưởng của thuật toán Bisecting Kmeans**\n",
    "\n",
    "Thuật toán khởi đầu bằng việc xem tất cả các điểm dữ liệu thuộc cùng một cụm và sau đó tiến hành như sau:\n",
    "\n",
    "1. Chọn một cụm để tách\n",
    "2. Tách cụm đã chọn thành 2 `sub-clusters` dùng thuật toán `K-means`. (`bisecting step`) \n",
    "3. Lặp lại bước 2 (`bisecting step`) `iter` lần và chọn ra phép tách tạo ra các cụm có `độ tương tự tổng thể` cao nhất.\n",
    "4. Lặp lại bước 1, 2, và 3 cho đến khi đạt được số cụm mong muốn. \n",
    "\n",
    "- Có nhiều cách khác nhau để **chọn cụm để tách** (bước 1). Ta có thể chọn cụm có kích cỡ lớn nhất (nhiều phần tử nhất) ở mỗi bước, hoặc chọn cụm có độ tương tự tổng thể nhỏ nhất, hoặc chọn cụm dùng cả hai tiêu chí về kích cỡ và độ tương tự tổng thể.\n",
    "\n",
    "- `Độ tương tự tổng thể` (`overall similarity`) của một cụm được tính bằng độ tương tự trung bình của các cặp phần tử trong cùng một cụm (`pairwise similarity`)."
   ]
  },
  {
   "cell_type": "code",
   "execution_count": 22,
   "metadata": {
    "id": "-LYdD4zl_PTu"
   },
   "outputs": [],
   "source": [
    "# Viết code của bạn ở đây\n",
    "from pyspark.ml.clustering import BisectingKMeans\n",
    "\n",
    "# Trains a bisecting k-means model.\n",
    "bkm = BisectingKMeans().setK(3).setSeed(1)\n",
    "model = bkm.fit(irisAssembler)"
   ]
  },
  {
   "cell_type": "code",
   "execution_count": 23,
   "metadata": {
    "colab": {
     "base_uri": "https://localhost:8080/"
    },
    "id": "LY-2EhS1DO9X",
    "outputId": "1f9c7038-4da6-4ef2-c21d-d639c7651511"
   },
   "outputs": [
    {
     "name": "stdout",
     "output_type": "stream",
     "text": [
      "Within Set Sum of Squared Errors = 41.36153800650694\n"
     ]
    },
    {
     "name": "stderr",
     "output_type": "stream",
     "text": [
      "/usr/local/lib/python3.7/dist-packages/pyspark/ml/clustering.py:978: FutureWarning: Deprecated in 3.0.0. It will be removed in future versions. Use ClusteringEvaluator instead. You can also get the cost on the training dataset in the summary.\n",
      "  FutureWarning,\n"
     ]
    }
   ],
   "source": [
    "# Evaluate clustering.\n",
    "cost = model.computeCost(irisAssembler)\n",
    "print(\"Within Set Sum of Squared Errors = \" + str(cost))"
   ]
  },
  {
   "cell_type": "code",
   "execution_count": 24,
   "metadata": {
    "colab": {
     "base_uri": "https://localhost:8080/"
    },
    "id": "W0l_gHFeDQO1",
    "outputId": "1606e051-33d7-4164-eef2-14d15e1ecec9"
   },
   "outputs": [
    {
     "name": "stdout",
     "output_type": "stream",
     "text": [
      "Cluster Centers: \n",
      "[5.5  2.65]\n",
      "[5.01632653 3.44081633]\n",
      "[6.58985507 2.96666667]\n"
     ]
    }
   ],
   "source": [
    "# Shows the result.\n",
    "print(\"Cluster Centers: \")\n",
    "centers = model.clusterCenters()\n",
    "for center in centers:\n",
    "    print(center)"
   ]
  },
  {
   "cell_type": "markdown",
   "metadata": {
    "id": "uSwLSi3i_PTu"
   },
   "source": [
    "## 6. Áp dụng `GaussianMixture` trên tập dữ liệu `iris`\n",
    "\n",
    "Thực lại các bước trên tập dữ liệu iris với thuật toán GaussianMixture.\n",
    "\n",
    "Tham khảo: \n",
    "\n",
    "1. [GaussianMixture User Guides](https://spark.apache.org/docs/latest/ml-clustering.html#gaussian-mixture-model-gmm)\n",
    "\n",
    "2. [GaussianMixture API Documentations](https://spark.apache.org/docs/latest/api/python/reference/api/pyspark.ml.clustering.GaussianMixture.html#pyspark.ml.clustering.GaussianMixture)"
   ]
  },
  {
   "cell_type": "markdown",
   "metadata": {
    "id": "paYenEOw_PTu"
   },
   "source": [
    "**Gaussian Mixture Model** là một trường hợp đặt biệt của [**Mixture Model**](https://en.wikipedia.org/wiki/Mixture_model). Mô hình hỗn hợp (mixture model) là một mô hình xác suất biểu diễn cho sự hiện diện của các nhóm con trong một tổng thể. Một mô hình hỗn hợp tương ứng với phân bố hỗn hợp (mixture distribution) biểu diễn phân phối xác suất của các phần tử trong một tổng thể.\n",
    "\n",
    "Mixture model thuộc lớp các `mô hình sinh` (`generative model`). `Mô hình sinh` dựa trên giả định dữ liệu được sinh từ một mô hình ẩn bên dưới với các tham số. Ta cần tìm cách ước lượng các tham số sao cho nó cực đại hóa xác suất sinh ra dữ liệu. `Mô hình hỗn hợp Gauss` (`Gaussian mixture model`) giả định rằng dữ liệu được sinh từ một tổ hợp các phân bố Gauss. Ta cần ước lượng các tham số của mô hình, tức $\\theta = \\{(\\mu_i, \\sigma_i)\\}_{i=1..k}$ (mỗi phân bố Gauss được biểu diễn bởi một cặp $(\\mu_i, \\sigma_i)$), sao cho xác xuất sinh ra tập dữ liệu $D = \\{x_1, x_2, \\cdots, x_n\\}$, $P(D | \\theta)$, là lớn nhất. Thuật toán `Expectation-Maximization` (`EM`) thường được sử dụng để ước lượng các tham số cho mô hình `Gaussian mixture model`. Tham khảo thêm [Gaussian mixture model](https://brilliant.org/wiki/gaussian-mixture-model/).\n",
    "\n",
    "Khác với các thuật toán `gom cụm cứng` (`hard clustering`), Gaussian mixture model được xem là một thuật toán `gom cụm mềm` (`soft clustring`). Mỗi phần tử có thể thuộc nhiều cụm ứng với xác suất khác nhau."
   ]
  },
  {
   "cell_type": "code",
   "execution_count": 25,
   "metadata": {
    "colab": {
     "base_uri": "https://localhost:8080/"
    },
    "id": "cpBnKpcu_PTu",
    "outputId": "2d737aef-a06a-41b5-ed85-0cdba889ab68"
   },
   "outputs": [
    {
     "name": "stdout",
     "output_type": "stream",
     "text": [
      "Gaussians shown as a DataFrame: \n",
      "+--------------------+--------------------+\n",
      "|                mean|                 cov|\n",
      "+--------------------+--------------------+\n",
      "|[6.05512780452506...|0.327557618491267...|\n",
      "|[6.33126469977098...|0.517882974473717...|\n",
      "|[5.01560927774038...|0.119415061646354...|\n",
      "+--------------------+--------------------+\n",
      "\n"
     ]
    }
   ],
   "source": [
    "# Viết code của bạn ở đây\n",
    "from pyspark.ml.clustering import GaussianMixture\n",
    "\n",
    "gmm = GaussianMixture().setK(3).setSeed(538009335)\n",
    "model = gmm.fit(irisFeaturesDF)\n",
    "\n",
    "print(\"Gaussians shown as a DataFrame: \")\n",
    "model.gaussiansDF.show()"
   ]
  }
 ],
 "metadata": {
  "colab": {
   "provenance": []
  },
  "kernelspec": {
   "display_name": "Python 3 (ipykernel)",
   "language": "python",
   "name": "python3"
  },
  "language_info": {
   "codemirror_mode": {
    "name": "ipython",
    "version": 3
   },
   "file_extension": ".py",
   "mimetype": "text/x-python",
   "name": "python",
   "nbconvert_exporter": "python",
   "pygments_lexer": "ipython3",
   "version": "3.9.12"
  },
  "vscode": {
   "interpreter": {
    "hash": "ff4f85d6e04298634172ac5d8264e7e9b556b95639fe52ebb9425c4d4cba0c9c"
   }
  }
 },
 "nbformat": 4,
 "nbformat_minor": 1
}
